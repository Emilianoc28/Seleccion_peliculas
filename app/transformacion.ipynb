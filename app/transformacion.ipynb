{
 "cells": [
  {
   "cell_type": "code",
   "execution_count": 12,
   "metadata": {},
   "outputs": [
    {
     "name": "stdout",
     "output_type": "stream",
     "text": [
      "Valores nulos reemplazados con 0 en las columnas 'revenue' y 'budget'.\n",
      "Filas con valores nulos en 'release_date' eliminadas.\n"
     ]
    }
   ],
   "source": [
    "import pandas as pd\n",
    "\n",
    "# Carga del CSV\n",
    "df = pd.read_csv('movies_credits_merged.csv')\n",
    "\n",
    "df = pd.read_csv('movies_credits_merged.csv', delimiter=',')  # Si las columnas están separadas por comas\n",
    "df = pd.read_csv('movies_credits_merged.csv', header=0)  # Usar la primera fila como encabezado\n",
    "df = pd.read_csv('movies_credits_merged.csv', skip_blank_lines=True)\n",
    "\n",
    "# Reemplazar valores nulos en las columnas revenue y budget por 0\n",
    "df['revenue'] = df['revenue'].fillna(0)\n",
    "df['budget'] = df['budget'].fillna(0)\n",
    "\n",
    "# Eliminar filas donde 'release_date' sea nulo\n",
    "df = df.dropna(subset=['release_date'])\n",
    "\n",
    "# Guardar el DataFrame actualizado si es necesario\n",
    "df.to_csv('movies_credits_merged_cleaned.csv', index=False)\n",
    "\n",
    "print(\"Valores nulos reemplazados con 0 en las columnas 'revenue' y 'budget'.\")\n",
    "print(\"Filas con valores nulos en 'release_date' eliminadas.\")\n"
   ]
  },
  {
   "cell_type": "code",
   "execution_count": 13,
   "metadata": {},
   "outputs": [
    {
     "name": "stdout",
     "output_type": "stream",
     "text": [
      "La columna 'release_date' se ha formateado a AAAA-mm-dd y las filas inválidas han sido eliminadas.\n",
      "La columna 'release_year' ha sido creada con éxito.\n"
     ]
    }
   ],
   "source": [
    "\n",
    "# Convertir la columna release_date al formato AAAA-mm-dd\n",
    "df['release_date'] = pd.to_datetime(df['release_date'], errors='coerce').dt.strftime('%Y-%m-%d')\n",
    "# Asegurar que 'release_date' esté en formato datetime\n",
    "df['release_date'] = pd.to_datetime(df['release_date'], errors='coerce')\n",
    "# Crear la nueva columna 'release_year' extrayendo el año de 'release_date'\n",
    "df['release_year'] = df['release_date'].dt.year\n",
    "\n",
    "# Eliminar filas con fechas inválidas (que se convierten en NaT)\n",
    "df = df.dropna(subset=['release_date'])\n",
    "\n",
    "# Guardar el DataFrame actualizado si es necesario\n",
    "df.to_csv('movies_credits_merged_cleaned.csv', index=False)\n",
    "\n",
    "print(\"La columna 'release_date' se ha formateado a AAAA-mm-dd y las filas inválidas han sido eliminadas.\")\n",
    "print(\"La columna 'release_year' ha sido creada con éxito.\")\n"
   ]
  },
  {
   "cell_type": "code",
   "execution_count": 14,
   "metadata": {},
   "outputs": [
    {
     "name": "stdout",
     "output_type": "stream",
     "text": [
      "La columna 'return' ha sido creada con éxito.\n"
     ]
    }
   ],
   "source": [
    "# Crear la columna 'return' calculando revenue / budget, reemplazando valores no disponibles con 0\n",
    "df['return'] = df.apply(lambda row: row['revenue'] / row['budget'] if row['budget'] > 0 else 0, axis=1)\n",
    "\n",
    "# Sobrescribir el archivo con los cambios\n",
    "df.to_csv('movies_credits_merged_cleaned.csv', index=False)\n",
    "\n",
    "print(\"La columna 'return' ha sido creada con éxito.\")\n"
   ]
  },
  {
   "cell_type": "code",
   "execution_count": 15,
   "metadata": {},
   "outputs": [
    {
     "name": "stdout",
     "output_type": "stream",
     "text": [
      "Columnas Eliminas con exito.\n"
     ]
    }
   ],
   "source": [
    "# Eliminar las columnas especificadas\n",
    "df = df.drop(columns=['video', 'imdb_id', 'adult', 'original_title', 'poster_path', 'homepage'])\n",
    "\n",
    "# Sobrescribir el archivo con los cambios\n",
    "df.to_csv('movies_credits_merged_cleaned.csv', index=False)\n",
    "\n",
    "print(\"Columnas Eliminas con exito.\")"
   ]
  },
  {
   "cell_type": "code",
   "execution_count": 16,
   "metadata": {},
   "outputs": [],
   "source": [
    "# Eliminar la columna original 'belongs_to_collection'\n",
    "# Eliminar las columnas no necesarias para la interfaz de usuario\n",
    "df = df.drop(columns=['belongs_to_collection','status', 'tagline','production_companies', 'production_countries', 'runtime', \n",
    "                      'revenue', 'budget','release_date'])\n",
    "# Sobrescribir el archivo con los cambios\n",
    "df.to_csv('movies_credits_merged_cleaned.csv', index=False)\n"
   ]
  },
  {
   "cell_type": "code",
   "execution_count": 17,
   "metadata": {},
   "outputs": [
    {
     "name": "stdout",
     "output_type": "stream",
     "text": [
      "La columna 'genres' ha sido modificada para contener solo los nombres de los géneros y el archivo ha sido actualizado.\n"
     ]
    }
   ],
   "source": [
    "# Extraer solo los nombres de los géneros de la columna 'genres'\n",
    "df['genres'] = df['genres'].apply(lambda x: [genre['name'] for genre in eval(x)] if pd.notnull(x) else [])\n",
    "\n",
    "# Sobrescribir el archivo con los cambios\n",
    "df.to_csv('movies_credits_merged_cleaned.csv', index=False)\n",
    "\n",
    "# Confirmar que se ha hecho la modificación\n",
    "print(\"La columna 'genres' ha sido modificada para contener solo los nombres de los géneros y el archivo ha sido actualizado.\")\n"
   ]
  },
  {
   "cell_type": "code",
   "execution_count": 18,
   "metadata": {},
   "outputs": [],
   "source": [
    "# Definir el nuevo orden de las columnas según el criterio lógico\n",
    "new_order = [ 'title', 'original_language', 'release_year',\n",
    "             'overview', 'genres',\n",
    "              'return', 'spoken_languages', 'popularity', 'vote_average', \n",
    "             'vote_count', 'cast', 'crew']\n",
    "\n",
    "# Reordenar las columnas en el DataFrame\n",
    "df = df[new_order]\n",
    "\n",
    "# Sobrescribir el archivo con el nuevo orden de las columnas\n",
    "df.to_csv('movies_credits_merged_cleaned.csv', index=False)\n",
    "\n"
   ]
  },
  {
   "cell_type": "code",
   "execution_count": 19,
   "metadata": {},
   "outputs": [
    {
     "name": "stdout",
     "output_type": "stream",
     "text": [
      "La columna 'spoken_languages' ha sido renombrada a 'languages', y 'original_language' ha sido eliminada.\n"
     ]
    }
   ],
   "source": [
    "# Extraer los idiomas de la columna 'spoken_languages' y crear una lista con solo los nombres de los idiomas\n",
    "df['spoken_languages'] = df['spoken_languages'].apply(lambda x: [lang['name'] for lang in eval(x)] if isinstance(x, str) else [])\n",
    "\n",
    "# Renombrar la columna 'spoken_languages' a 'languages'\n",
    "df = df.rename(columns={'spoken_languages': 'languages'})\n",
    "\n",
    "# Eliminar la columna 'original_language'\n",
    "df = df.drop(columns=['original_language'])\n",
    "\n",
    "# Sobrescribir el archivo con los cambios\n",
    "df.to_csv('movies_credits_merged_cleaned.csv', index=False)\n",
    "\n",
    "# Confirmar el cambio\n",
    "print(\"La columna 'spoken_languages' ha sido renombrada a 'languages', y 'original_language' ha sido eliminada.\")\n"
   ]
  },
  {
   "cell_type": "code",
   "execution_count": 20,
   "metadata": {},
   "outputs": [
    {
     "name": "stdout",
     "output_type": "stream",
     "text": [
      "La columna 'cast' ha sido actualizada para contener solo los campos 'character' y 'name'.\n"
     ]
    }
   ],
   "source": [
    "# Extraer solo los campos 'character' y 'name' de cada diccionario en la lista de la columna 'cast'\n",
    "df['cast'] = df['cast'].apply(lambda x: [{'character': member['character'], 'name': member['name']} for member in eval(x)] if isinstance(x, str) else [])\n",
    "\n",
    "# Sobrescribir el archivo con los cambios\n",
    "df.to_csv('movies_credits_merged_cleaned.csv', index=False)\n",
    "\n",
    "# Confirmar el cambio\n",
    "print(\"La columna 'cast' ha sido actualizada para contener solo los campos 'character' y 'name'.\")\n"
   ]
  },
  {
   "cell_type": "code",
   "execution_count": 21,
   "metadata": {},
   "outputs": [
    {
     "name": "stdout",
     "output_type": "stream",
     "text": [
      "                                                crew\n",
      "0  [{'job': 'Director', 'name': 'John Lasseter'},...\n",
      "1  [{'job': 'Executive Producer', 'name': 'Larry ...\n",
      "2  [{'job': 'Director', 'name': 'Howard Deutch'},...\n",
      "3  [{'job': 'Director', 'name': 'Forest Whitaker'...\n",
      "4  [{'job': 'Original Music Composer', 'name': 'A...\n"
     ]
    }
   ],
   "source": [
    "# Convertir las listas de cadenas (si es necesario)\n",
    "# Si 'crew' es una cadena que representa una lista de diccionarios, usaremos ast.literal_eval para convertirla en una lista real\n",
    "df['crew'] = df['crew'].apply(lambda x: ast.literal_eval(x) if isinstance(x, str) else x)\n",
    "\n",
    "# Modificar la columna 'crew' para mantener solo 'job' y 'name'\n",
    "df['crew'] = df['crew'].apply(lambda crew_list: [{'job': entry['job'], 'name': entry['name']} for entry in crew_list] if isinstance(crew_list, list) else crew_list)\n",
    "\n",
    "# Guardar el DataFrame modificado de nuevo en el archivo CSV\n",
    "df.to_csv('movies_credits_merged_cleaned.csv', index=False)\n",
    "\n",
    "# Verificar el cambio\n",
    "print(df[['crew']].head())  # Solo para verificar cómo quedó la columna 'crew'\n"
   ]
  },
  {
   "cell_type": "code",
   "execution_count": 22,
   "metadata": {},
   "outputs": [],
   "source": [
    "# Eliminar filas con valores nulos en cualquier columna\n",
    "df_clean = df.dropna()\n"
   ]
  },
  {
   "cell_type": "code",
   "execution_count": 23,
   "metadata": {},
   "outputs": [],
   "source": [
    "# Filtrar filas que tienen el número correcto de columnas (por ejemplo, 20 columnas)\n",
    "df_clean = df[df.apply(lambda row: len(row) == 11, axis=1)]\n"
   ]
  },
  {
   "cell_type": "code",
   "execution_count": 24,
   "metadata": {},
   "outputs": [
    {
     "name": "stdout",
     "output_type": "stream",
     "text": [
      "                         title  release_year  \\\n",
      "0                    Toy Story          1995   \n",
      "1                      Jumanji          1995   \n",
      "2             Grumpier Old Men          1995   \n",
      "3            Waiting to Exhale          1995   \n",
      "4  Father of the Bride Part II          1995   \n",
      "\n",
      "                                            overview  \\\n",
      "0  Led by Woody, Andy's toys live happily in his ...   \n",
      "1  When siblings Judy and Peter discover an encha...   \n",
      "2  A family wedding reignites the ancient feud be...   \n",
      "3  Cheated on, mistreated and stepped on, the wom...   \n",
      "4  Just when George Banks has recovered from his ...   \n",
      "\n",
      "                         genres     return            languages  popularity  \\\n",
      "0   [Animation, Comedy, Family]  12.451801            [English]   21.946943   \n",
      "1  [Adventure, Fantasy, Family]   4.043035  [English, Français]   17.015539   \n",
      "2             [Romance, Comedy]   0.000000            [English]   11.712900   \n",
      "3      [Comedy, Drama, Romance]   5.090760            [English]    3.859495   \n",
      "4                      [Comedy]   0.000000            [English]    8.387519   \n",
      "\n",
      "   vote_average  vote_count  \\\n",
      "0           7.7      5415.0   \n",
      "1           6.9      2413.0   \n",
      "2           6.5        92.0   \n",
      "3           6.1        34.0   \n",
      "4           5.7       173.0   \n",
      "\n",
      "                                                cast  \\\n",
      "0  [{'character': 'Woody (voice)', 'name': 'Tom H...   \n",
      "1  [{'character': 'Alan Parrish', 'name': 'Robin ...   \n",
      "2  [{'character': 'Max Goldman', 'name': 'Walter ...   \n",
      "3  [{'character': 'Savannah 'Vannah' Jackson', 'n...   \n",
      "4  [{'character': 'George Banks', 'name': 'Steve ...   \n",
      "\n",
      "                                                crew  \n",
      "0  [{'job': 'Director', 'name': 'John Lasseter'},...  \n",
      "1  [{'job': 'Executive Producer', 'name': 'Larry ...  \n",
      "2  [{'job': 'Director', 'name': 'Howard Deutch'},...  \n",
      "3  [{'job': 'Director', 'name': 'Forest Whitaker'...  \n",
      "4  [{'job': 'Original Music Composer', 'name': 'A...  \n"
     ]
    }
   ],
   "source": [
    "print(df_clean.head())\n"
   ]
  },
  {
   "cell_type": "code",
   "execution_count": 27,
   "metadata": {},
   "outputs": [],
   "source": [
    "# Filtrar filas donde 'release_year' no sea un número válido (año)\n",
    "df_clean = df[df['release_year'].apply(lambda x: str(x).isdigit() and len(str(x)) == 4)]\n",
    "\n",
    "df.to_csv('movies_credits_merged_cleaned.csv', index=False)\n"
   ]
  },
  {
   "cell_type": "code",
   "execution_count": null,
   "metadata": {},
   "outputs": [],
   "source": [
    "\n"
   ]
  }
 ],
 "metadata": {
  "kernelspec": {
   "display_name": "Python 3",
   "language": "python",
   "name": "python3"
  },
  "language_info": {
   "codemirror_mode": {
    "name": "ipython",
    "version": 3
   },
   "file_extension": ".py",
   "mimetype": "text/x-python",
   "name": "python",
   "nbconvert_exporter": "python",
   "pygments_lexer": "ipython3",
   "version": "3.12.1"
  }
 },
 "nbformat": 4,
 "nbformat_minor": 2
}
